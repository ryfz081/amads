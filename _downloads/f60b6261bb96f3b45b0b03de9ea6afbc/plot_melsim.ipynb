{
  "cells": [
    {
      "cell_type": "markdown",
      "metadata": {},
      "source": [
        "\n# Melodic similarity\n\nThis example demonstrates how we can calculate the similarity between two\nmelodies using the `melsim` module, which is a Python wrapper for the `melsim`\nR package (https://github.com/sebsilas/melsim).\n"
      ]
    },
    {
      "cell_type": "markdown",
      "metadata": {},
      "source": [
        "First, we'll import the required modules.\n\n"
      ]
    },
    {
      "cell_type": "code",
      "execution_count": null,
      "metadata": {
        "collapsed": false
      },
      "outputs": [],
      "source": [
        "import numpy as np\nimport pandas as pd\n\nfrom amads.core.basics import Score\nfrom amads.melody.similarity.melsim import (\n    check_r_packages_installed,\n    get_similarity,\n    r_get_similarity,\n    r_load_melody,\n)\nfrom amads.utils import check_python_package_installed"
      ]
    },
    {
      "cell_type": "markdown",
      "metadata": {},
      "source": [
        "Check if all required dependencies are installed.\n\n"
      ]
    },
    {
      "cell_type": "code",
      "execution_count": null,
      "metadata": {
        "collapsed": false
      },
      "outputs": [],
      "source": [
        "def test_check_dependencies():\n    check_python_package_installed(\"rpy2\")\n    check_r_packages_installed(install_missing=True)\n\n\ntest_check_dependencies()"
      ]
    },
    {
      "cell_type": "markdown",
      "metadata": {},
      "source": [
        "Create example melodies for comparison. We'll start with a C major scale and\ncreate variations by altering different notes.\n\n"
      ]
    },
    {
      "cell_type": "code",
      "execution_count": null,
      "metadata": {
        "collapsed": false
      },
      "outputs": [],
      "source": [
        "# Create a C major scale melody (C4 to C5) with quarter note durations\nc_major_scale = Score.from_melody(\n    pitches=[60, 62, 64, 65, 67, 69, 71, 72], durations=1.0\n)\n\n# Create variations by altering different notes\nmodified_scale = Score.from_melody(\n    pitches=[60, 62, 64, 66, 67, 71, 72], durations=1.0  # F4->F#4\n)\n\nthird_scale = Score.from_melody(\n    pitches=[60, 62, 64, 66, 67, 68, 71, 72], durations=1.0  # F4->F#4, A4->Ab4\n)\n\nfourth_scale = Score.from_melody(\n    pitches=[60, 62, 64, 66, 67, 68, 70, 72], durations=1.0  # F4->F#4, A4->Ab4, B4->Bb4\n)\n\nmelodies = [c_major_scale, modified_scale, third_scale, fourth_scale]"
      ]
    },
    {
      "cell_type": "markdown",
      "metadata": {},
      "source": [
        "Perform a simple similarity comparison between two melodies using Jaccard similarity.\n\n"
      ]
    },
    {
      "cell_type": "code",
      "execution_count": null,
      "metadata": {
        "collapsed": false
      },
      "outputs": [],
      "source": [
        "get_similarity(c_major_scale, modified_scale, \"Jaccard\", \"pitch\")"
      ]
    },
    {
      "cell_type": "markdown",
      "metadata": {},
      "source": [
        "Now perform pairwise comparisons across all melodies using different similarity measures.\n\n"
      ]
    },
    {
      "cell_type": "code",
      "execution_count": null,
      "metadata": {
        "collapsed": false
      },
      "outputs": [],
      "source": [
        "# Load melodies into R\nfor i, melody in enumerate(melodies):\n    r_load_melody(melody, f\"melody_{i + 1}\")\n\nsimilarity_measures = [\"cosine\", \"Simpson\"]\n\nfor method in similarity_measures:\n    n = len(melodies)\n    sim_matrix = np.zeros((n, n))\n    melody_names = [f\"melody_{i + 1}\" for i in range(n)]\n    for i in range(n):\n        for j in range(i + 1, n):\n            similarity = r_get_similarity(\n                f\"melody_{i + 1}\", f\"melody_{j + 1}\", method, \"pitch\"\n            )\n            sim_matrix[i, j] = similarity\n            sim_matrix[j, i] = similarity\n        sim_matrix[i, i] = 1.0\n    sim_df = pd.DataFrame(sim_matrix, index=melody_names, columns=melody_names)\n    print(f\"\\nPairwise {method} similarities:\")\n    print(sim_df)"
      ]
    },
    {
      "cell_type": "markdown",
      "metadata": {},
      "source": [
        "Finally, explore other types of melodic similarity measures.\n\n"
      ]
    },
    {
      "cell_type": "code",
      "execution_count": null,
      "metadata": {
        "collapsed": false
      },
      "outputs": [],
      "source": [
        "# Compare intervallic similarity\nget_similarity(c_major_scale, modified_scale, \"Euclidean\", \"int\")"
      ]
    },
    {
      "cell_type": "markdown",
      "metadata": {},
      "source": [
        "Compare IOI class similarity (expected to be 1 as IOIs are identical)\n\n"
      ]
    },
    {
      "cell_type": "code",
      "execution_count": null,
      "metadata": {
        "collapsed": false
      },
      "outputs": [],
      "source": [
        "get_similarity(c_major_scale, modified_scale, \"Canberra\", \"ioi_class\")"
      ]
    }
  ],
  "metadata": {
    "kernelspec": {
      "display_name": "Python 3",
      "language": "python",
      "name": "python3"
    },
    "language_info": {
      "codemirror_mode": {
        "name": "ipython",
        "version": 3
      },
      "file_extension": ".py",
      "mimetype": "text/x-python",
      "name": "python",
      "nbconvert_exporter": "python",
      "pygments_lexer": "ipython3",
      "version": "3.10.17"
    }
  },
  "nbformat": 4,
  "nbformat_minor": 0
}