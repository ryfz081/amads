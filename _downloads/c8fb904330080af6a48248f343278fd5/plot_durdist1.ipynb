{
  "cells": [
    {
      "cell_type": "markdown",
      "metadata": {},
      "source": [
        "\n# Duration distributions (I)\n\nThis example demonstrates how to calculate and visualize the duration distribution\nof notes in a MIDI file.\n"
      ]
    },
    {
      "cell_type": "code",
      "execution_count": null,
      "metadata": {
        "collapsed": false
      },
      "outputs": [],
      "source": [
        "import matplotlib.pyplot\n\nfrom amads.algorithms import duration_distribution_1\nfrom amads.io import partitura_midi_import\nfrom amads.music import example\n\n# Load example MIDI file\nmy_midi_file = example.fullpath(\"midi/sarabande.mid\")\n\n# Import MIDI using partitura\nmyscore = partitura_midi_import(my_midi_file, ptprint=False)\n# myscore.show()\n\n# Calculate duration distribution\ndd = duration_distribution_1(myscore)\ndd.plot()\n\nprint(\"Duration distribution:\", dd.data, dd.x_categories)\nmatplotlib.pyplot.show()"
      ]
    }
  ],
  "metadata": {
    "kernelspec": {
      "display_name": "Python 3",
      "language": "python",
      "name": "python3"
    },
    "language_info": {
      "codemirror_mode": {
        "name": "ipython",
        "version": 3
      },
      "file_extension": ".py",
      "mimetype": "text/x-python",
      "name": "python",
      "nbconvert_exporter": "python",
      "pygments_lexer": "ipython3",
      "version": "3.10.17"
    }
  },
  "nbformat": 4,
  "nbformat_minor": 0
}