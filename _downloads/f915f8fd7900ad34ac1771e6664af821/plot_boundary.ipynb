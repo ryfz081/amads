{
  "cells": [
    {
      "cell_type": "markdown",
      "metadata": {},
      "source": [
        "\n# Boundary detection\n"
      ]
    },
    {
      "cell_type": "markdown",
      "metadata": {},
      "source": [
        "This example demonstrates how to detect boundaries in a MIDI file using the\nboundary detection algorithm.\n\n"
      ]
    },
    {
      "cell_type": "code",
      "execution_count": null,
      "metadata": {
        "collapsed": false
      },
      "outputs": [],
      "source": [
        "import matplotlib.pyplot as plt\n\nfrom amads.algorithms import boundary\nfrom amads.io import partitura_midi_import, pianoroll\nfrom amads.music import example\n\n# Load example MIDI file\nmy_midi_file = example.fullpath(\"midi/tempo.mid\")\n\n# Import MIDI using partitura\nmyscore = partitura_midi_import(my_midi_file, ptprint=False)\n\n# Create piano roll visualization\nfig = pianoroll(myscore)\n\n# Detect boundaries and get strength values\nstrength_list = boundary(myscore)\nprint(strength_list)\n\n# TODO: consider a graph sharing the same time axis as\n# our score plot so that the \"soft\" boundary strengths could be\n# accentuated. How do we visualize strength?\n\nplt.show()  # hello"
      ]
    }
  ],
  "metadata": {
    "kernelspec": {
      "display_name": "Python 3",
      "language": "python",
      "name": "python3"
    },
    "language_info": {
      "codemirror_mode": {
        "name": "ipython",
        "version": 3
      },
      "file_extension": ".py",
      "mimetype": "text/x-python",
      "name": "python",
      "nbconvert_exporter": "python",
      "pygments_lexer": "ipython3",
      "version": "3.10.17"
    }
  },
  "nbformat": 4,
  "nbformat_minor": 0
}