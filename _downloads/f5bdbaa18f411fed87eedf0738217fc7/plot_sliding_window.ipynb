{
  "cells": [
    {
      "cell_type": "markdown",
      "metadata": {},
      "source": [
        "\n# Sliding window analysis\n\nThis example demonstrates how to perform a sliding window analysis on a musical\nscore to compute the mean pitch height (mean key_num) from each window and plot\nthe result.\n"
      ]
    },
    {
      "cell_type": "markdown",
      "metadata": {},
      "source": [
        "First, we'll import the required modules.\n\n"
      ]
    },
    {
      "cell_type": "code",
      "execution_count": null,
      "metadata": {
        "collapsed": false
      },
      "outputs": [],
      "source": [
        "import matplotlib.pyplot as plt\n\nfrom amads.algorithms.slice.window import sliding_window\nfrom amads.io.pt_midi_import import partitura_midi_import\nfrom amads.music import example"
      ]
    },
    {
      "cell_type": "markdown",
      "metadata": {},
      "source": [
        "Load an example MIDI file and import it using partitura.\n\n"
      ]
    },
    {
      "cell_type": "code",
      "execution_count": null,
      "metadata": {
        "collapsed": false
      },
      "outputs": [],
      "source": [
        "midi_file = example.fullpath(\"midi/twochan.mid\")\nmy_score = partitura_midi_import(midi_file, ptprint=False)"
      ]
    },
    {
      "cell_type": "markdown",
      "metadata": {},
      "source": [
        "Set up parameters for the sliding window analysis. We'll use a window size of\n4.0 (one bar) and a small step size of 0.01 for smooth results.\n\n"
      ]
    },
    {
      "cell_type": "code",
      "execution_count": null,
      "metadata": {
        "collapsed": false
      },
      "outputs": [],
      "source": [
        "size = 4.0  # one bar\nstep = 0.01"
      ]
    },
    {
      "cell_type": "markdown",
      "metadata": {},
      "source": [
        "Flatten the score to get a single sequence of notes.\n\n"
      ]
    },
    {
      "cell_type": "code",
      "execution_count": null,
      "metadata": {
        "collapsed": false
      },
      "outputs": [],
      "source": [
        "flattened_score = my_score.flatten(collapse=True)"
      ]
    },
    {
      "cell_type": "markdown",
      "metadata": {},
      "source": [
        "Perform the sliding window analysis. Each window will contain notes that are\nsounding within its time boundaries.\n\n"
      ]
    },
    {
      "cell_type": "code",
      "execution_count": null,
      "metadata": {
        "collapsed": false
      },
      "outputs": [],
      "source": [
        "windows = sliding_window(\n    flattened_score,\n    size=size,\n    step=step,\n    align=\"center\",\n)"
      ]
    },
    {
      "cell_type": "markdown",
      "metadata": {},
      "source": [
        "Compute the duration-weighted mean pitch height for each window.\nFor empty windows, we'll use None as the default value.\n\n"
      ]
    },
    {
      "cell_type": "code",
      "execution_count": null,
      "metadata": {
        "collapsed": false
      },
      "outputs": [],
      "source": [
        "times = []\nmean_pitch_heights = []\nfor window in windows:\n    times.append(window.time)\n\n    if len(window.content) == 0:\n        mean_pitch_heights.append(None)\n        continue\n\n    total_duration = sum(note.duration for note in window.content)\n    weighted_sum = sum(note.key_num * note.duration for note in window.content)\n    mean_pitch_heights.append(weighted_sum / total_duration)"
      ]
    },
    {
      "cell_type": "markdown",
      "metadata": {},
      "source": [
        "Finally, plot the results to visualize how mean pitch height changes over time.\n\n"
      ]
    },
    {
      "cell_type": "code",
      "execution_count": null,
      "metadata": {
        "collapsed": false
      },
      "outputs": [],
      "source": [
        "plt.figure(figsize=(10, 6))\nplt.plot(times, mean_pitch_heights)\nplt.xlabel(\"Time\")\nplt.ylabel(\"Mean pitch height\")\nplt.show()"
      ]
    }
  ],
  "metadata": {
    "kernelspec": {
      "display_name": "Python 3",
      "language": "python",
      "name": "python3"
    },
    "language_info": {
      "codemirror_mode": {
        "name": "ipython",
        "version": 3
      },
      "file_extension": ".py",
      "mimetype": "text/x-python",
      "name": "python",
      "nbconvert_exporter": "python",
      "pygments_lexer": "ipython3",
      "version": "3.10.17"
    }
  },
  "nbformat": 4,
  "nbformat_minor": 0
}