{
  "cells": [
    {
      "cell_type": "markdown",
      "metadata": {},
      "source": [
        "\n# Duration distributions (II)\n\nThis example demonstrates how to calculate and visualize the duration distribution\nof notes in a MIDI file.\n"
      ]
    },
    {
      "cell_type": "code",
      "execution_count": null,
      "metadata": {
        "collapsed": false
      },
      "outputs": [],
      "source": [
        "from amads.algorithms import duration_distribution_2\nfrom amads.io import partitura_midi_import\nfrom amads.music import example\n\n# Load example MIDI file\nmy_midi_file = example.fullpath(\"midi/sarabande.mid\")\n\n# Import MIDI using partitura\nmyscore = partitura_midi_import(my_midi_file, ptprint=False)\n# myscore.show()\n\n# Calculate duration distribution\ndd = duration_distribution_2(myscore)\nfig = dd.plot()\n\nprint(\n    \"Duration pair distribution:\",\n    dd.data,\n    dd.x_categories,\n    dd.y_categories,\n    dd.x_label,\n    dd.y_label,\n)"
      ]
    }
  ],
  "metadata": {
    "kernelspec": {
      "display_name": "Python 3",
      "language": "python",
      "name": "python3"
    },
    "language_info": {
      "codemirror_mode": {
        "name": "ipython",
        "version": 3
      },
      "file_extension": ".py",
      "mimetype": "text/x-python",
      "name": "python",
      "nbconvert_exporter": "python",
      "pygments_lexer": "ipython3",
      "version": "3.10.17"
    }
  },
  "nbformat": 4,
  "nbformat_minor": 0
}