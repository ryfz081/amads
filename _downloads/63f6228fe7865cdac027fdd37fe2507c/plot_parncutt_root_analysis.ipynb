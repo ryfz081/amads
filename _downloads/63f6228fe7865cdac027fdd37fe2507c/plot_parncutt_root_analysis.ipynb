{
  "cells": [
    {
      "cell_type": "markdown",
      "metadata": {},
      "source": [
        "\n# Root analysis (after Parncutt)\n\nThis example demonstrates how we can analyze the root of a chord using the `parncutt` module.\n"
      ]
    },
    {
      "cell_type": "code",
      "execution_count": null,
      "metadata": {
        "collapsed": false
      },
      "outputs": [],
      "source": [
        "from amads.harmony.root_finding.parncutt import ParncuttRootAnalysis"
      ]
    },
    {
      "cell_type": "code",
      "execution_count": null,
      "metadata": {
        "collapsed": false
      },
      "outputs": [],
      "source": [
        "c_major_triad = ParncuttRootAnalysis([60, 64, 67])\nprint(f\"Root: {c_major_triad.root}\")\nprint(f\"Root ambiguity: {c_major_triad.root_ambiguity}\")\nfig = c_major_triad.plot()"
      ]
    },
    {
      "cell_type": "code",
      "execution_count": null,
      "metadata": {
        "collapsed": false
      },
      "outputs": [],
      "source": [
        "f_minor_triad = ParncuttRootAnalysis([60, 65, 67])\nprint(f\"Root: {f_minor_triad.root}\")\nprint(f\"Root ambiguity: {f_minor_triad.root_ambiguity}\")\nfig = f_minor_triad.plot()"
      ]
    },
    {
      "cell_type": "code",
      "execution_count": null,
      "metadata": {
        "collapsed": false
      },
      "outputs": [],
      "source": [
        "d_diminished_triad = ParncuttRootAnalysis([62, 65, 68])\nprint(f\"Root: {d_diminished_triad.root}\")\nprint(f\"Root ambiguity: {d_diminished_triad.root_ambiguity}\")\nfig = d_diminished_triad.plot()"
      ]
    }
  ],
  "metadata": {
    "kernelspec": {
      "display_name": "Python 3",
      "language": "python",
      "name": "python3"
    },
    "language_info": {
      "codemirror_mode": {
        "name": "ipython",
        "version": 3
      },
      "file_extension": ".py",
      "mimetype": "text/x-python",
      "name": "python",
      "nbconvert_exporter": "python",
      "pygments_lexer": "ipython3",
      "version": "3.10.17"
    }
  },
  "nbformat": 4,
  "nbformat_minor": 0
}